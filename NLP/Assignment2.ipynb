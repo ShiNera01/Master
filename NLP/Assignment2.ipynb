{
 "cells": [
  {
   "cell_type": "code",
   "execution_count": 1,
   "metadata": {},
   "outputs": [],
   "source": [
    "import json\n",
    "import pandas as pd\n",
    "import numpy as np\n",
    "import random\n",
    "\n",
    "file_path = \"yelp_academic_dataset_review.json\"\n",
    "\n",
    "line_count = len(open(\"yelp_academic_dataset_review.json\").readlines())\n",
    "\n"
   ]
  },
  {
   "cell_type": "code",
   "execution_count": 2,
   "metadata": {
    "scrolled": false
   },
   "outputs": [],
   "source": [
    "\n",
    "\n",
    "\n",
    "user_ids,business_ids,stars = [],[],[]\n",
    "\n",
    "\n",
    "count_for_example = 0\n",
    "\n",
    "with open('yelp_academic_dataset_review.json','r',encoding = 'utf-8') as json_file:\n",
    "\n",
    "    for line in json_file:\n",
    "        \n",
    "        statement = json.loads(line)\n",
    "              \n",
    "        user_ids += [statement[\"user_id\"]]\n",
    "        business_ids += [statement[\"business_id\"]]\n",
    "        stars += [statement[\"stars\"]]\n",
    "        \n",
    "            \n",
    "\n"
   ]
  },
  {
   "cell_type": "code",
   "execution_count": 3,
   "metadata": {},
   "outputs": [
    {
     "name": "stdout",
     "output_type": "stream",
     "text": [
      "                        user_id             business_id  rating\n",
      "0        Xqd0DzHaiyRqVH3WRG7hzg  vcNAWiLM4dR7D2nwwJ7nCA       5\n",
      "1        H1kH6QZV7Le4zqTRNxoZow  vcNAWiLM4dR7D2nwwJ7nCA       2\n",
      "2        zvJCcrpm2yOZrxKffwGQLA  vcNAWiLM4dR7D2nwwJ7nCA       4\n",
      "3        KBLW4wJA_fwoWmMhiHRVOA  vcNAWiLM4dR7D2nwwJ7nCA       4\n",
      "4        zvJCcrpm2yOZrxKffwGQLA  vcNAWiLM4dR7D2nwwJ7nCA       4\n",
      "...                         ...                     ...     ...\n",
      "1125453  lhMo-dGq0V2iKqBIiwUJSg  BVxlrYWgmi-8TPGMe6CTpg       5\n",
      "1125454  TTrzXCtB2MZA8Azw56bRlw  BVxlrYWgmi-8TPGMe6CTpg       5\n",
      "1125455  rtS7mDof5d-cEPBsmVuUJw  BVxlrYWgmi-8TPGMe6CTpg       3\n",
      "1125456  tZs84cKAUSOtP_nAiSdreQ  BVxlrYWgmi-8TPGMe6CTpg       4\n",
      "1125457  LfnB4N7SVSAIPOM3If_kDA  BVxlrYWgmi-8TPGMe6CTpg       3\n",
      "\n",
      "[1125458 rows x 3 columns]\n",
      "[['Xqd0DzHaiyRqVH3WRG7hzg' 'vcNAWiLM4dR7D2nwwJ7nCA' 5]\n",
      " ['H1kH6QZV7Le4zqTRNxoZow' 'vcNAWiLM4dR7D2nwwJ7nCA' 2]\n",
      " ['zvJCcrpm2yOZrxKffwGQLA' 'vcNAWiLM4dR7D2nwwJ7nCA' 4]\n",
      " ...\n",
      " ['rtS7mDof5d-cEPBsmVuUJw' 'BVxlrYWgmi-8TPGMe6CTpg' 3]\n",
      " ['tZs84cKAUSOtP_nAiSdreQ' 'BVxlrYWgmi-8TPGMe6CTpg' 4]\n",
      " ['LfnB4N7SVSAIPOM3If_kDA' 'BVxlrYWgmi-8TPGMe6CTpg' 3]]\n"
     ]
    }
   ],
   "source": [
    "\n",
    "\n",
    "\n",
    "ratings = pd.DataFrame(\n",
    "{\"user_id\" : user_ids, \"business_id\" : business_ids, \"rating\" : stars}\n",
    ")\n",
    "\n",
    "\n",
    "\n",
    "\n",
    "print(ratings)\n",
    "print(ratings.values)\n",
    "\n"
   ]
  },
  {
   "cell_type": "code",
   "execution_count": 4,
   "metadata": {},
   "outputs": [],
   "source": [
    "ratings_frac = ratings.sample(frac=0.10)\n",
    "\n",
    "training_set = ratings_frac.sample(frac=0.7)\n",
    "\n",
    "test_set = ratings_frac.drop(training_set.index)\n",
    "\n"
   ]
  },
  {
   "cell_type": "code",
   "execution_count": 5,
   "metadata": {},
   "outputs": [],
   "source": [
    "\n",
    "#ratings 모델을 matrix 형태로 변환\n",
    "\n",
    "ratings_training = training_set.pivot_table(\n",
    "   index ='user_id',columns = 'business_id', values = 'rating',aggfunc= \"median\"   #같은 유저가 같은 business에 대한 평가를 할 때 median으로 사용\n",
    ").fillna(0)\n",
    "\n"
   ]
  },
  {
   "cell_type": "code",
   "execution_count": 6,
   "metadata": {},
   "outputs": [],
   "source": [
    "ratings_test = test_set.pivot_table(\n",
    "   index ='user_id',columns = 'business_id', values = 'rating',aggfunc= \"median\"   #같은 유저가 같은 business에 대한 평가를 할 때 median으로 사용\n",
    ").fillna(0)"
   ]
  },
  {
   "cell_type": "code",
   "execution_count": 7,
   "metadata": {
    "scrolled": false
   },
   "outputs": [
    {
     "name": "stdout",
     "output_type": "stream",
     "text": [
      "[[0. 0. 0. ... 0. 0. 0.]\n",
      " [0. 0. 0. ... 0. 0. 0.]\n",
      " [0. 0. 0. ... 0. 0. 0.]\n",
      " ...\n",
      " [0. 0. 0. ... 0. 0. 0.]\n",
      " [0. 0. 0. ... 0. 0. 0.]\n",
      " [0. 0. 0. ... 0. 0. 0.]]\n",
      "(47340, 21127)\n"
     ]
    }
   ],
   "source": [
    "ratings = ratings_training.to_numpy()\n",
    "\n",
    "print(ratings)\n",
    "\n",
    "print(ratings.shape)"
   ]
  },
  {
   "cell_type": "code",
   "execution_count": 11,
   "metadata": {},
   "outputs": [],
   "source": [
    "class MatrixFactorization():\n",
    "    \n",
    "    def __init__(self, rating,latent, learning_rate, weight, epochs ,verbose = True):\n",
    "        \n",
    "        self.rating = rating\n",
    "        self.latent = latent\n",
    "        self.learning_rate = learning_rate\n",
    "        self.weight = weight\n",
    "        self.num_users, self.num_items = rating.shape\n",
    "        self.epochs = epochs\n",
    "        self.index_i = 0\n",
    "        self.index_j = 0\n",
    "        \n",
    "        \n",
    "    def fit(self):\n",
    "        \n",
    "        self.users_latent = np.random.normal(size=(self.num_users, self.latent))   #latent matrix 생성\n",
    "        self.items_latent = np.random.normal(size=(self.num_items, self.latent))\n",
    "        \n",
    "        self.users_bias = np.zeros(self.num_users)                                #bias 0으로 생성\n",
    "        self.items_bias = np.zeros(self.num_items)\n",
    "        self.bias = np.mean(self.rating[np.where(self.rating != 0)])\n",
    "        print(\"heel\")\n",
    "        self.training_process = []\n",
    "        \n",
    "        for epoch in range(self.epochs):                                    # 총 epochs만큼 반복해서 SGD 이행\n",
    "          \n",
    "            non_zero_value = self.rating.nonzero()\n",
    "            \n",
    "           \n",
    "            \n",
    "            rand_number = random.randrange(0,len(non_zero_value[0]))\n",
    "            \n",
    "            self.index_i = non_zero_value[0][rand_number]\n",
    "            self.index_j = non_zero_value[1][rand_number]\n",
    "            \n",
    "            self.gradient_descent(self.index_i,self.index_j, self.rating[self.index_i,self.index_j])\n",
    "            print(\"hi\")\n",
    "            \n",
    "            cost = self.cost()\n",
    "            \n",
    "            self.training_process.append((epoch, cost))\n",
    "            \n",
    "            print(\"hello\")\n",
    "           \n",
    "            \n",
    "    def cost(self):\n",
    "        \n",
    "        \n",
    "        prediction = self.calculated_matrix()\n",
    "        cost = 0\n",
    "        \n",
    "        \n",
    "        cost += pow(self.rating[self.index_i,self.index_j] - prediction[self.index_i,self.index_j],2)\n",
    "            \n",
    "        rmse_value = np.sqrt(cost)\n",
    "        \n",
    "        return rmse_value\n",
    "    \n",
    "    \n",
    "    def calculated_matrix(self):\n",
    "        \n",
    "        return self.bias + self.users_bias[:,np.newaxis] + self.items_bias[np.newaxis, : ] + self.users_latent.dot(self.items_latent.T)\n",
    "        \n",
    "        \n",
    "        \n",
    "        \n",
    "        \n",
    "    def gradient(self, error, user_index, item_index):\n",
    "        \n",
    "        d_users = (error * self.items_latent[item_index,:]) - (self.weight * self.users_latent[user_index, :])\n",
    "        d_items = (error * self.users_latent[user_index, :]) - (self.weight * self.items_latent[item_index, :])\n",
    "        \n",
    "        return d_users,d_items\n",
    "    \n",
    "    def gradient_descent(self,user_index, item_index, rating):\n",
    "        \n",
    "        prediction = self.predicted(user_index,item_index)\n",
    "        error = rating - prediction\n",
    "        \n",
    "        self.users_bias[user_index] -= self.learning_rate * (error - self.weight*self.users_bias[user_index])\n",
    "        self.items_bias[item_index] -= self.learning_rate * (error - self.weight*self.items_bias[item_index])\n",
    "        \n",
    "        d_users,d_items = self.gradient(error, user_index,item_index)\n",
    "        \n",
    "        self.users_latent[user_index, : ] -= self.learning_rate * d_users\n",
    "        self.items_latent[item_index, : ] -= self.learning_rate * d_items\n",
    "        \n",
    "        \n",
    "        \n",
    "    def predicted(self,user_index,item_index):\n",
    "        \n",
    "        prediction_values = self.bias + self.users_bias[user_index]+self.items_bias[item_index] + self.users_latent[user_index,:].dot(self.items_latent[item_index, : ].T)\n",
    "        \n",
    "        return prediction_values\n",
    "    \n",
    "\n",
    "    \n",
    "    def print\n",
    "    \n",
    "\n",
    "        \n",
    "        "
   ]
  },
  {
   "cell_type": "code",
   "execution_count": 12,
   "metadata": {
    "scrolled": true
   },
   "outputs": [
    {
     "name": "stdout",
     "output_type": "stream",
     "text": [
      "heel\n",
      "hi\n",
      "hello\n"
     ]
    },
    {
     "data": {
      "text/plain": [
       "array([[ 5.72948513,  3.1907328 ,  1.99781219, ...,  5.36233428,\n",
       "         4.78222365,  5.74290921],\n",
       "       [ 3.17537237,  0.486741  , 10.80208567, ..., -0.52419668,\n",
       "         1.00092406,  2.49500565],\n",
       "       [ 4.78029935,  1.1367924 ,  1.11156723, ...,  9.06859797,\n",
       "         4.958724  ,  5.21594105],\n",
       "       ...,\n",
       "       [ 1.84295605,  3.03493335,  6.63701205, ...,  1.99522584,\n",
       "         2.25951308,  2.05434536],\n",
       "       [ 5.27250584,  6.66913013,  3.55189213, ...,  0.94511519,\n",
       "         4.16943589,  2.28651622],\n",
       "       [ 2.78993067,  0.13325008,  7.16958077, ...,  2.7615894 ,\n",
       "        -0.70965863,  3.02426453]])"
      ]
     },
     "execution_count": 12,
     "metadata": {},
     "output_type": "execute_result"
    }
   ],
   "source": [
    "model = MatrixFactorization(ratings,latent=5, learning_rate = 0.5, weight = 0.5, epochs = 300,verbose = True)\n",
    "\n",
    "model.fit() \n",
    "\n",
    "model.calculated_matrix()\n",
    "\n",
    "\n"
   ]
  },
  {
   "cell_type": "code",
   "execution_count": null,
   "metadata": {},
   "outputs": [],
   "source": [
    "print(model.cost())"
   ]
  },
  {
   "cell_type": "code",
   "execution_count": null,
   "metadata": {},
   "outputs": [],
   "source": [
    "model = MatrixFactorization(ratings,latent=5, learning_rate = 0.5, weight = 0.5, epochs = 300,verbose = True)\n",
    "\n",
    "model.fit() \n",
    "\n",
    "model.calculated_matrix()\n"
   ]
  }
 ],
 "metadata": {
  "kernelspec": {
   "display_name": "Python 3",
   "language": "python",
   "name": "python3"
  },
  "language_info": {
   "codemirror_mode": {
    "name": "ipython",
    "version": 3
   },
   "file_extension": ".py",
   "mimetype": "text/x-python",
   "name": "python",
   "nbconvert_exporter": "python",
   "pygments_lexer": "ipython3",
   "version": "3.7.3"
  }
 },
 "nbformat": 4,
 "nbformat_minor": 4
}
